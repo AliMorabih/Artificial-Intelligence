{
  "nbformat": 4,
  "nbformat_minor": 0,
  "metadata": {
    "colab": {
      "name": "AI-CourseworkC-AliMorabih-40522091.ipynb",
      "provenance": [],
      "collapsed_sections": []
    },
    "kernelspec": {
      "name": "python3",
      "display_name": "Python 3"
    },
    "language_info": {
      "name": "python"
    }
  },
  "cells": [
    {
      "cell_type": "code",
      "metadata": {
        "id": "fMpWRG9LdF8r"
      },
      "source": [
        "#  I need to Install Tensorlow using command \n",
        "!pip install -q tensorflow-gpu==2.7.0"
      ],
      "execution_count": 31,
      "outputs": []
    },
    {
      "cell_type": "markdown",
      "metadata": {
        "id": "x_Rb5zcXLGzJ"
      },
      "source": [
        "Get the version "
      ]
    },
    {
      "cell_type": "code",
      "metadata": {
        "colab": {
          "base_uri": "https://localhost:8080/"
        },
        "id": "2EjLsFxyXwXL",
        "outputId": "d3ac7702-dfe7-4060-9fe2-4133633e78b1"
      },
      "source": [
        "try :\n",
        "  %tensorflow_version 2.x \n",
        "except Exception:\n",
        "    pass\n",
        "\n",
        "import tensorflow as tf \n",
        "print(tf.__version__)"
      ],
      "execution_count": 32,
      "outputs": [
        {
          "output_type": "stream",
          "name": "stdout",
          "text": [
            "2.7.0\n"
          ]
        }
      ]
    },
    {
      "cell_type": "markdown",
      "metadata": {
        "id": "4-zAoU-HNcu2"
      },
      "source": [
        "All my imports "
      ]
    },
    {
      "cell_type": "code",
      "metadata": {
        "id": "ZuRKqiXNW5-J"
      },
      "source": [
        "import numpy as np\n",
        "import pandas as pd\n",
        "import matplotlib.pyplot as plt \n",
        "# here i import the layer that i need to create 1 demesion neural netword \n",
        "from tensorflow.keras.layers import Dense, Input, GlobalMaxPool1D\n",
        "from tensorflow.keras.layers import Conv1D, MaxPool1D, Embedding\n",
        "from tensorflow.keras.models import Model\n",
        "from keras.models import Sequential\n",
        "from keras import layers\n",
        "# here a import Tokenizer and pad_seqeunces in order to preprocess text \n",
        "from keras.preprocessing.text import Tokenizer\n",
        "from keras.preprocessing.sequence import pad_sequences\n",
        "\n"
      ],
      "execution_count": 33,
      "outputs": []
    },
    {
      "cell_type": "markdown",
      "metadata": {
        "id": "ruYNVlpZDjZ_"
      },
      "source": [
        "\n",
        "\n",
        "```\n",
        "# I import ny  dataset that i have (train, val, test) \n",
        "\n",
        "# I use pandas to read the Data and also renames the columns"
      ]
    },
    {
      "cell_type": "code",
      "metadata": {
        "id": "jC8985nHdNPL"
      },
      "source": [
        "# Train Data\n",
        "data_train = pd.read_csv('/content/train.csv', names=['sentence', 'label'])\n",
        "# Validation Data \n",
        "data_val = pd.read_csv('/content/val.csv', names=['sentence', 'label'])\n",
        "# Test Data \n",
        "data_test = pd.read_csv('/content/test.csv', names=['sentence', 'label'])"
      ],
      "execution_count": 34,
      "outputs": []
    },
    {
      "cell_type": "markdown",
      "metadata": {
        "id": "xKalZMA5OrNy"
      },
      "source": [
        "Here i check the Data using .head"
      ]
    },
    {
      "cell_type": "code",
      "metadata": {
        "colab": {
          "base_uri": "https://localhost:8080/",
          "height": 206
        },
        "id": "nzlkZO1xdjTT",
        "outputId": "c2c2544a-7dae-4f5b-d34f-9f3ac3e9ba64"
      },
      "source": [
        "data_train.head()"
      ],
      "execution_count": 35,
      "outputs": [
        {
          "output_type": "execute_result",
          "data": {
            "text/html": [
              "<div>\n",
              "<style scoped>\n",
              "    .dataframe tbody tr th:only-of-type {\n",
              "        vertical-align: middle;\n",
              "    }\n",
              "\n",
              "    .dataframe tbody tr th {\n",
              "        vertical-align: top;\n",
              "    }\n",
              "\n",
              "    .dataframe thead th {\n",
              "        text-align: right;\n",
              "    }\n",
              "</style>\n",
              "<table border=\"1\" class=\"dataframe\">\n",
              "  <thead>\n",
              "    <tr style=\"text-align: right;\">\n",
              "      <th></th>\n",
              "      <th>sentence</th>\n",
              "      <th>label</th>\n",
              "    </tr>\n",
              "  </thead>\n",
              "  <tbody>\n",
              "    <tr>\n",
              "      <th>0</th>\n",
              "      <td>note : some may consider portions of the follo...</td>\n",
              "      <td>1</td>\n",
              "    </tr>\n",
              "    <tr>\n",
              "      <th>1</th>\n",
              "      <td>note : some may consider portions of the follo...</td>\n",
              "      <td>1</td>\n",
              "    </tr>\n",
              "    <tr>\n",
              "      <th>2</th>\n",
              "      <td>every once in a while you see a film that is s...</td>\n",
              "      <td>1</td>\n",
              "    </tr>\n",
              "    <tr>\n",
              "      <th>3</th>\n",
              "      <td>when i was growing up in 1970s , boys in my sc...</td>\n",
              "      <td>1</td>\n",
              "    </tr>\n",
              "    <tr>\n",
              "      <th>4</th>\n",
              "      <td>the muppet movie is the first , and the best m...</td>\n",
              "      <td>1</td>\n",
              "    </tr>\n",
              "  </tbody>\n",
              "</table>\n",
              "</div>"
            ],
            "text/plain": [
              "                                            sentence  label\n",
              "0  note : some may consider portions of the follo...      1\n",
              "1  note : some may consider portions of the follo...      1\n",
              "2  every once in a while you see a film that is s...      1\n",
              "3  when i was growing up in 1970s , boys in my sc...      1\n",
              "4  the muppet movie is the first , and the best m...      1"
            ]
          },
          "metadata": {},
          "execution_count": 35
        }
      ]
    },
    {
      "cell_type": "code",
      "metadata": {
        "id": "91J5fF0admzz"
      },
      "source": [
        "# I store the reviews and the labels in  arrays \n",
        "\n",
        "reviews = data_train['sentence'].values  \n",
        "label = data_train['label'].values  \n",
        "\n",
        "reviewstest = data_test['sentence'].values\n",
        "labeltest = data_test['label'].values \n",
        "\n",
        "reviewsval = data_val['sentence'].values  \n",
        "labelval =   data_val['label'].values "
      ],
      "execution_count": 36,
      "outputs": []
    },
    {
      "cell_type": "code",
      "metadata": {
        "id": "sRY-3LcRdoWY"
      },
      "source": [
        "reviews_train, y_train  = (reviews, label)\n",
        "reviewsVal, y_Val  = (reviewsval, labelval)\n",
        "reviewstest, y_test  = (reviewstest, labeltest)"
      ],
      "execution_count": 37,
      "outputs": []
    },
    {
      "cell_type": "code",
      "metadata": {
        "id": "5P8M5Wm4dr-p"
      },
      "source": [
        "#print(reviews_train)"
      ],
      "execution_count": 38,
      "outputs": []
    },
    {
      "cell_type": "markdown",
      "metadata": {
        "id": "e_rGkxwCPkMM"
      },
      "source": [
        "Here I Convert sentences to sequences using the Tokenizer , first i called the fit_on_text on a trainset and i called text_to_sequebces for train, validation, text, this give me a sequences train and sequennces validation and also for test\n"
      ]
    },
    {
      "cell_type": "code",
      "metadata": {
        "id": "7iNJDOZ2dthd"
      },
      "source": [
        "MAX_VOCAB_S = 20000\n",
        "tokenizer = Tokenizer(num_words = MAX_VOCAB_S)\n",
        "tokenizer.fit_on_texts(reviews_train)\n",
        "# new variable X_train and y_train and X_test\n",
        "seq_train = tokenizer.texts_to_sequences(reviews_train)\n",
        "seq_val = tokenizer.texts_to_sequences(reviewsVal)\n",
        "seq_test = tokenizer.texts_to_sequences(reviewstest)"
      ],
      "execution_count": 39,
      "outputs": []
    },
    {
      "cell_type": "markdown",
      "metadata": {
        "id": "KFAwirOOQSXa"
      },
      "source": [
        "I get the word index mapping and also vocabulary size V,   37252 tokens"
      ]
    },
    {
      "cell_type": "code",
      "metadata": {
        "colab": {
          "base_uri": "https://localhost:8080/"
        },
        "id": "iAwhAq5edvzT",
        "outputId": "c2a2ba18-deb0-4d84-dccf-73a3a7e3d86a"
      },
      "source": [
        "wordToIndex = tokenizer.word_index\n",
        "V = len(wordToIndex) + 1  \n",
        "print(reviews_train[0])\n",
        "print(seq_train[0])\n",
        "V"
      ],
      "execution_count": 40,
      "outputs": [
        {
          "output_type": "stream",
          "name": "stdout",
          "text": [
            "note : some may consider portions of the following text to be spoilers .  be forewarned .  it's startling to consider that it was only a few years ago that film distributors would worriedly rearrange their summer release schedules in order to give the annual disney animated feature juggernaut a wide berth .  the lion king had just cracked $300 million domestic in gross to become one of the most profitable ventures in film history , continuing to build on a sturdy base left by prior flicks aladdin and beauty and the beast .  since then , though , disney's animated features have shown an unbroken string of diminishing returns , with pocahontas , the hunchback of notre dame , and this year's hercules successively proving less and less potent .  with the once seemingly-impregnable disney stranglehold on the market share suddenly looking mighty vulnerable , and faced with their first serious competition in the animated film market from fox's anastasia , disney has brought xmas home early by dusting off the feature which sparked the modern revival of feature animation , the little mermaid .  while the animation for the film is , as is typically the case for disney films , unquestionably top-notch , the magic in the little mermaid is not its animation , but the wonderful innocence of its story and its rousingly superb music .  the film's storyline is fairly straightforward -- young teen falls for handsome man , father disapproves and assigns hapless chaperone to his daughter , teen disobeys father and goes to desperate lengths to win her man -- except in this case , the chaperone is a crab , the teen is a young mermaid , and the object of her desire is a human prince .  what makes the little mermaid so affecting and so emotionally resonant is the richness and charm of its characters and the sheer clarity and honest simplicity of their emotions .  from the moment mermaid ariel lays her eyes on prince eric , she's resolutely smitten , and she's such a pure and endearing character that one can't help but invest their heart with her .  this simple but touching love story , coupled with a healthy dose of smart humour , makes the little mermaid a remarkably captivating picture .  one of the interesting things about the little mermaid is something which now curiously dates it : the voices cast for its motley crew of characters .  this film was produced just before the distracting concept of using celebrity voices became in vogue , which started to a certain degree with beauty and the beast and was irrevocably exacerbated by robin williams' much-heralded turn in aladdin ; by the release of the lion king and henceforth , the majority of characters in the animated films were voiced by celebrities .  while it's understandable that animated features lacking the name-recognition or drawing power of disney ( say , balto's use of kevin bacon and bridget fonda , or even anastasia's showcasing of meg ryan and john cusack ) would be forced to turn to this strategy in order to hype their products , it's unfortunate that even disney has embraced this policy .  do we really need to hear , say , demi moore as esmerelda in the hunchback of notre dame ?  is the film's entertainment value really augmented by hearing a recognizable voice , rather than a voice which best suits the role ?   ( i'm not exactly on the edge of my seat for eddie murphy in the upcoming mulan . )  fortunately , the performers who voice the characters in the little mermaid , although perhaps more obscure , are impeccably cast .  chief among them is jodi benson , a 1992 tony nominee for her stage work in crazy for you , who voices the film's heroine ariel to perfection ; with a wonderfully expressive speaking voice full of youthful vigor , and gorgeous singing voice , ms . benson provides a most engaging anchor for the film .   ( she's the only reason i'd even consider catching flubber . )  similarly , samuel e . wright is terrific in the showy role of sebastian , the weary guardian crab .  he easily milks his lovable character's comic moments for all they're worth , and his rendering of two of the little mermaid's big tunes -- \" under the sea \" and \" kiss the girl \" -- have become the stuff of legend .  pat carrol is deliciously villainous and vampy as the evil sea-witch ursula , while kenneth mars' booming voice conveys the stern yet affectionate authority of ariel's father , king triton .  in large roles and small ( edie mcclurg as dotting busybody carlotta is ideal , and rene auberjonois has great fun with his exuberant french chef ) , the little mermaid is impeccably cast .  of course , the little mermaid will probably be best remembered for its remarkable collection of songs composed by the songwriting team of alan menken ( music ) and howard ashman ( lyrics ) , who had created little shop of horrors and would go on to compose beauty and the beast and aladdin for disney before mr . ashman's untimely death .  not only are mr . menken's tunes unbearably catchy , but mr . ashman's charming lyrics are fully integrated into the film's storyline so that the songs are a virtual extension of the character's dialogue , and consequently work wonderfully within the context of the film .  mr . menken's score for the film is equally top-notch ; the sequence where eric ( voiced by christopher daniel barnes ) and ariel tour his kingdom in a horse-drawn carriage becomes magical and wondrous with mr . menken's fine score .  it appears that most people prefer the delightfully colourful production number for the calypso-styled \" under the sea \" as joyfully crooned by mr . wright , which won the academy award and golden globe awards for best song -- indeed , one of the many little joys in screening the film during its re-release was listening to children scattered throughout the audience singing along with the tune -- but my favourite is ms . benson's heartfelt rendition of the ballad \" part of your world \" , an achingly beautiful tune of yearning and hope ( wonderfully lyricized by mr . ashman ) which , accompanied by the film's most dazzlingly polished animation sequence , packs an emotional wallop which literally brought tears to my eyes .  during the song's reprise , which builds to a crescendo with ariel arching on a rock as a wave crashes in , the cumulative effect is nothing short of breathtaking , and one becomes acutely aware that this single instance is one of the finest in animation history .  as of this writing , november 1997 has come to an end , as has disney's limited 17-day re-release of the little mermaid .  there's no question that the primary motivation for , if not the film's reissue itself , at least its timing , was to reinforce disney's dominance in the animation market and provide direct competition to fox's costly new upstart animation division and their first major venture , anastasia .  in every respect , the re-release of the little mermaid appears to be a success -- the film's 1997 grosses have pushed its cumulative domestic gross over the magic $100 million mark ; the little mermaid proved to have remarkably strong drawing power for a film initially released only eight years ago and in many homes on video , pulling in close to $10 million in its opening weekend ; and although nobody could possibly expect the little mermaid to possibly defeat the aggressively-marketed anastasia in head-to-head competition , it siphoned enough from the fox film's opening weekend totals to keep anastasia from the coveted weekend leader spot , allowing for disney's odious flubber to sweep in on the subsequent week and wrestle the family demographic market share away .  but although disney's motives in the reissue of the little mermaid were self-serving and protectionist , the real winner is the public .  any reason to put this film back into theatres is a good one , and it's a true joy to see this heartwarming gem back on the silver screen .  the little mermaid is the best film to come out of the disney's modern animation renaissance , and one of the greatest animated films ever made .  \n",
            "[519, 49, 175, 1356, 4179, 4, 1, 811, 3712, 5, 22, 2693, 22, 5207, 37, 4180, 5, 1356, 8, 9, 30, 57, 2, 147, 177, 707, 8, 15, 10907, 69, 46, 409, 636, 7, 482, 5, 252, 1, 6574, 541, 719, 566, 17472, 2, 1487, 1, 4719, 684, 90, 50, 7462, 7463, 725, 4949, 7, 2171, 5, 283, 23, 4, 1, 63, 6168, 9767, 7, 15, 660, 7464, 5, 1731, 18, 2, 10908, 2557, 337, 21, 2838, 1787, 8087, 3, 1082, 3, 1, 1650, 194, 97, 155, 1732, 719, 637, 31, 1139, 24, 14345, 3838, 4, 1678, 11, 8088, 1, 8089, 4, 8816, 6575, 3, 13, 1025, 5500, 4004, 284, 3, 284, 4348, 11, 1, 231, 1239, 17473, 541, 18, 1, 2225, 1255, 1009, 282, 2558, 4720, 3, 2128, 11, 46, 79, 661, 3461, 7, 1, 719, 15, 2225, 28, 8817, 4005, 541, 32, 840, 260, 439, 21, 17474, 87, 1, 566, 45, 9768, 1, 1026, 6169, 4, 566, 854, 1, 93, 2927, 88, 1, 854, 12, 1, 15, 6, 10, 6, 4721, 1, 308, 12, 541, 96, 12351, 358, 2754, 1, 1422, 7, 1, 93, 2927, 6, 26, 64, 854, 16, 1, 650, 2694, 4, 64, 65, 3, 64, 17475, 1531, 297, 1, 235, 1240, 6, 1010, 3364, 195, 1049, 619, 12, 2695, 110, 315, 9769, 3, 10909, 3839, 17476, 5, 14, 485, 1049, 315, 3, 218, 5, 1374, 5208, 5, 1156, 34, 110, 598, 7, 13, 308, 1, 17476, 6, 2, 4722, 1, 1049, 6, 2, 195, 2927, 3, 1, 3152, 4, 34, 1915, 6, 2, 300, 2316, 48, 145, 1, 93, 2927, 39, 5501, 3, 39, 2625, 6, 1, 8818, 3, 1169, 4, 64, 80, 3, 1, 1733, 8090, 3, 1941, 6965, 4, 46, 1357, 28, 1, 450, 2927, 6576, 6577, 34, 479, 18, 2316, 2317, 367, 9770, 8091, 3, 367, 121, 2, 1506, 3, 3153, 72, 8, 23, 227, 272, 16, 6966, 46, 486, 11, 34, 13, 470, 16, 1460, 128, 65, 6578, 11, 2, 4349, 4350, 4, 726, 1815, 145, 1, 93, 2927, 2, 3054, 4723, 255, 23, 4, 1, 215, 157, 41, 1, 93, 2927, 6, 136, 45, 141, 6967, 8092, 9, 1, 2272, 185, 12, 64, 7465, 638, 4, 80, 13, 15, 30, 985, 50, 143, 1, 2928, 1207, 4, 669, 3462, 2272, 1241, 7, 17477, 45, 1532, 5, 2, 748, 2696, 11, 1082, 3, 1, 1650, 3, 30, 14346, 21, 665, 4950, 70, 17478, 395, 7, 8087, 21, 1, 636, 4, 1, 4719, 684, 3, 1, 3254, 4, 80, 7, 1, 719, 96, 118, 2081, 21, 4951, 88, 37, 4351, 8, 719, 637, 1889, 1, 355, 3573, 47, 3574, 620, 4, 541, 186, 345, 4, 480, 2447, 3, 4724, 3055, 47, 56, 9771, 4, 3154, 890, 3, 171, 2082, 69, 22, 651, 5, 395, 5, 13, 6968, 7, 482, 5, 2559, 46, 5502, 37, 2273, 8, 56, 541, 32, 8093, 13, 9772, 75, 62, 101, 423, 5, 1011, 186, 9773, 2274, 10, 17479, 7, 1, 8089, 4, 8816, 6575, 6, 1, 235, 627, 1973, 101, 17480, 21, 2448, 2, 6579, 444, 237, 59, 2, 444, 45, 111, 2839, 1, 164, 219, 26, 446, 18, 1, 1256, 4, 104, 1788, 12, 1109, 914, 7, 1, 3713, 1890, 2497, 1, 2083, 27, 444, 1, 80, 7, 1, 93, 2927, 192, 296, 42, 5818, 20, 10910, 185, 1816, 613, 81, 6, 14347, 8819, 2, 4539, 1533, 9774, 12, 34, 1488, 140, 7, 1298, 12, 33, 27, 2272, 1, 235, 2560, 6576, 5, 2755, 11, 2, 1762, 5503, 1507, 444, 364, 4, 10911, 9775, 3, 2756, 1891, 444, 1789, 8819, 1062, 2, 63, 1679, 6170, 12, 1, 15, 367, 1, 57, 305, 827, 56, 1356, 4725, 2626, 3840, 3463, 915, 3714, 6, 1087, 7, 1, 9776, 164, 4, 5504, 1, 4540, 6969, 4722, 19, 681, 14348, 14, 3464, 1621, 354, 302, 12, 35, 349, 415, 3, 14, 9777, 4, 73, 4, 1, 93, 131, 3155, 410, 1, 1916, 3, 1680, 1, 299, 31, 283, 1, 631, 4, 1375, 3255, 17481, 6, 4541, 6970, 3, 10, 1, 356, 1916, 1208, 17482, 88, 3056, 8094, 8820, 444, 5819, 1, 4181, 246, 10912, 3256, 4, 315, 684, 17483, 7, 828, 515, 3, 326, 14349, 14350, 10, 17484, 6, 2929, 3, 8821, 32, 122, 241, 11, 14, 8822, 1423, 5505, 1, 93, 2927, 6, 10910, 185, 4, 233, 1, 93, 2927, 66, 268, 22, 111, 2449, 12, 64, 1974, 2275, 4, 1271, 3575, 21, 1, 17485, 442, 4, 1489, 17486, 297, 3, 2991, 17487, 5209, 27, 90, 891, 93, 2450, 4, 5506, 3, 69, 132, 18, 5, 14351, 1082, 3, 1, 1650, 3, 8087, 12, 541, 143, 435, 17488, 9778, 310, 26, 57, 20, 435, 14352, 3155, 9779, 4352, 16, 435, 17488, 1395, 5209, 20, 1272, 8823, 54, 1, 235, 1240, 39, 8, 1, 1271, 20, 2, 2390, 17489, 4, 1, 1621, 267, 3, 4006, 140, 1762, 666, 1, 3465, 4, 1, 15, 435, 14352, 621, 12, 1, 15, 6, 1335, 358, 2754, 1, 379, 99, 2317, 2081, 21, 1209, 2084, 4726, 3, 6576, 3156, 14, 5507, 7, 2, 1763, 1396, 10913, 280, 2391, 3, 5820, 11, 435, 14352, 455, 621, 9, 589, 8, 63, 102, 4542, 1, 5210, 8095, 451, 648, 12, 1, 8824, 410, 1, 1916, 10, 21, 435, 3714, 45, 1817, 1, 1560, 1490, 3, 2498, 6171, 3257, 12, 111, 1125, 1072, 23, 4, 1, 113, 93, 7466, 7, 2697, 1, 15, 223, 64, 978, 636, 30, 3365, 5, 505, 7467, 467, 1, 170, 1891, 262, 11, 1, 4353, 16, 104, 6172, 6, 1789, 17490, 4007, 5508, 4, 1, 9780, 205, 4, 162, 144, 24, 14353, 438, 4353, 4, 10914, 3, 567, 1762, 21, 435, 17487, 45, 4182, 21, 1, 235, 63, 14354, 6173, 854, 379, 6580, 24, 614, 14355, 45, 1223, 840, 2627, 5, 104, 479, 223, 1, 12352, 45, 3576, 5, 2, 14356, 11, 6576, 18, 2, 794, 10, 2, 2840, 4354, 7, 1, 17491, 832, 6, 176, 428, 4, 2757, 3, 23, 280, 14357, 2318, 8, 13, 554, 1790, 6, 23, 4, 1, 2276, 7, 854, 660, 10, 4, 13, 758, 7468, 1734, 32, 190, 5, 24, 133, 10, 32, 1732, 1424, 2085, 216, 978, 636, 4, 1, 93, 2927, 149, 58, 496, 8, 1, 2758, 6174, 12, 51, 26, 1, 235, 14358, 312, 29, 220, 64, 3057, 30, 5, 14359, 1732, 12353, 7, 1, 854, 2225, 3, 1073, 1917, 3461, 5, 8817, 10915, 115, 14360, 854, 8825, 3, 46, 79, 483, 4727, 4005, 7, 148, 1508, 1, 978, 636, 4, 1, 93, 2927, 589, 5, 22, 2, 622, 1, 235, 1734, 14361, 31, 5509, 64, 17491, 4949, 2171, 109, 1, 1422, 1735, 725, 841, 1, 93, 2927, 3577, 5, 31, 3054, 536, 3574, 620, 12, 2, 15, 2226, 546, 57, 1681, 177, 707, 3, 7, 113, 5211, 18, 440, 3578, 7, 513, 5, 306, 725, 7, 64, 443, 2129, 3, 192, 1764, 106, 1197, 677, 1, 93, 2927, 5, 1197, 4952, 1, 12354, 8096, 4005, 7, 346, 5, 346, 3461, 9, 153, 28, 1, 1242, 235, 443, 2129, 17492, 5, 405, 4005, 28, 1, 14362, 2129, 1096, 2037, 3715, 12, 1732, 10916, 2626, 5, 8826, 7, 18, 1, 3841, 1461, 3, 12355, 1, 242, 12356, 2225, 1255, 234, 16, 192, 1732, 4008, 7, 1, 14358, 4, 1, 93, 2927, 118, 436, 3366, 3, 1, 154, 2172, 6, 1, 1534, 91, 305, 5, 304, 13, 15, 137, 54, 6581, 6, 2, 61, 23, 3, 37, 2, 320, 2277, 5, 82, 13, 8097, 3157, 137, 18, 1, 2759, 203, 1, 93, 2927, 6, 1, 111, 15, 5, 190, 40, 4, 1, 1732, 1026, 854, 9781, 3, 23, 4, 1, 1074, 719, 96, 191, 130]\n"
          ]
        },
        {
          "output_type": "execute_result",
          "data": {
            "text/plain": [
              "37252"
            ]
          },
          "metadata": {},
          "execution_count": 40
        }
      ]
    },
    {
      "cell_type": "markdown",
      "metadata": {
        "id": "1fea6oy-ooZo"
      },
      "source": [
        "\n",
        "\n",
        "```\n",
        "# Ce texte est au format code\n",
        "```\n",
        "\n",
        "I called the pad_sequences to pad trainset "
      ]
    },
    {
      "cell_type": "code",
      "metadata": {
        "colab": {
          "base_uri": "https://localhost:8080/"
        },
        "id": "ZMaxxmNhgii_",
        "outputId": "140eed57-9e59-469b-e188-c574b6b88bef"
      },
      "source": [
        "data_train = pad_sequences(seq_train)\n",
        "print('Shape  of the data train : ', data_train.shape )\n",
        "T = data_train.shape[1]\n"
      ],
      "execution_count": 41,
      "outputs": [
        {
          "output_type": "stream",
          "name": "stdout",
          "text": [
            "Shape  of the data train :  (1400, 2299)\n"
          ]
        }
      ]
    },
    {
      "cell_type": "markdown",
      "metadata": {
        "id": "ZCrJydWMo8fR"
      },
      "source": [
        "I called the pad_sequences to pad valtest using 2299 as maxlen"
      ]
    },
    {
      "cell_type": "code",
      "metadata": {
        "colab": {
          "base_uri": "https://localhost:8080/"
        },
        "id": "xCNo57pShLqE",
        "outputId": "ded6c2a4-e18e-4dce-f37c-e85816fb0452"
      },
      "source": [
        "data_val = pad_sequences(seq_val, maxlen=T)\n",
        "print('Shape  of the data val : ', data_val.shape )"
      ],
      "execution_count": 42,
      "outputs": [
        {
          "output_type": "stream",
          "name": "stdout",
          "text": [
            "Shape  of the data val :  (200, 2299)\n"
          ]
        }
      ]
    },
    {
      "cell_type": "markdown",
      "metadata": {
        "id": "7YQjqiCCpGhS"
      },
      "source": [
        "I i called the pad_sequences to pad the testset  using 2299 as **maxlen**"
      ]
    },
    {
      "cell_type": "code",
      "metadata": {
        "colab": {
          "base_uri": "https://localhost:8080/"
        },
        "id": "Far5AB2chd6J",
        "outputId": "8cd05773-dd27-4a8a-fc4e-171650894500"
      },
      "source": [
        "data_test = pad_sequences(seq_test,maxlen=T)\n",
        "print('Shape  of the data test : ', data_test.shape )"
      ],
      "execution_count": 43,
      "outputs": [
        {
          "output_type": "stream",
          "name": "stdout",
          "text": [
            "Shape  of the data test :  (400, 2299)\n"
          ]
        }
      ]
    },
    {
      "cell_type": "markdown",
      "metadata": {
        "id": "_cvlHZHFgEQJ"
      },
      "source": [
        "**Creating of the model**\n",
        "\n",
        "I stared by Embedding layer dimensionality  D = 50 \n",
        "than i will have convolutional layer follow by Globalmaxpooling \n"
      ]
    },
    {
      "cell_type": "code",
      "metadata": {
        "id": "eSb6L1qOZL-f"
      },
      "source": [
        "D = 50\n",
        "i = Input(shape=(T,))\n",
        "x = Embedding(V, D)(i)\n",
        "x = Conv1D(32, 3, activation='relu')(x)\n",
        "x = GlobalMaxPool1D()(x)\n",
        "x = Dense(10, activation='relu')(x)\n",
        "x = Dense(1, activation='sigmoid')(x)\n",
        "model = Model(i, x)"
      ],
      "execution_count": 44,
      "outputs": []
    },
    {
      "cell_type": "code",
      "metadata": {
        "id": "iUzAJcuYdbLT"
      },
      "source": [
        "  #D = 50\n",
        "  #i = Input(shape=(T,))\n",
        "  #x = Embedding(V, D)(i)\n",
        "  #x = Conv1D(32, 3, activation='relu')(x)\n",
        "  #x = MaxPool1D(3)(x)\n",
        "  #x = Conv1D(64, 3, activation='relu')(x)\n",
        "  #x = MaxPool1D(3)(x)\n",
        "  #x = Conv1D(128, 3, activation='relu')(x)\n",
        "  #x = GlobalMaxPool1D()(x)\n",
        "  #x = Dense(1, activation='sigmoid')(x)\n",
        "  #model = Model(i, x)\n",
        " "
      ],
      "execution_count": 45,
      "outputs": []
    },
    {
      "cell_type": "markdown",
      "metadata": {
        "id": "ymQS_KsgoJtM"
      },
      "source": [
        "**for Compile and fitting the**"
      ]
    },
    {
      "cell_type": "markdown",
      "metadata": {
        "id": "OlPGH0ODqLrh"
      },
      "source": [
        "i called model.compile and model.fil"
      ]
    },
    {
      "cell_type": "code",
      "metadata": {
        "colab": {
          "base_uri": "https://localhost:8080/"
        },
        "id": "EDEaBhPJd9il",
        "outputId": "448030ef-48ad-4e0e-a870-8b125e7efc5b"
      },
      "source": [
        "    model.compile(optimizer = 'adam', loss = 'binary_crossentropy', metrics = ['accuracy'])\n",
        "    print('Training model**')\n",
        "    Training = model.fit(data_train, y_train, epochs = 10, validation_data=(data_val, y_Val))\n",
        "    model.summary()"
      ],
      "execution_count": 46,
      "outputs": [
        {
          "output_type": "stream",
          "name": "stdout",
          "text": [
            "Training model**\n",
            "Epoch 1/10\n",
            "44/44 [==============================] - 7s 141ms/step - loss: 0.6920 - accuracy: 0.5186 - val_loss: 0.6888 - val_accuracy: 0.6050\n",
            "Epoch 2/10\n",
            "44/44 [==============================] - 6s 135ms/step - loss: 0.6617 - accuracy: 0.8543 - val_loss: 0.6691 - val_accuracy: 0.6750\n",
            "Epoch 3/10\n",
            "44/44 [==============================] - 6s 136ms/step - loss: 0.5662 - accuracy: 0.8979 - val_loss: 0.6054 - val_accuracy: 0.6800\n",
            "Epoch 4/10\n",
            "44/44 [==============================] - 6s 134ms/step - loss: 0.3723 - accuracy: 0.9507 - val_loss: 0.5498 - val_accuracy: 0.7150\n",
            "Epoch 5/10\n",
            "44/44 [==============================] - 6s 136ms/step - loss: 0.1846 - accuracy: 0.9907 - val_loss: 0.5099 - val_accuracy: 0.7400\n",
            "Epoch 6/10\n",
            "44/44 [==============================] - 6s 136ms/step - loss: 0.0731 - accuracy: 0.9993 - val_loss: 0.4962 - val_accuracy: 0.7600\n",
            "Epoch 7/10\n",
            "44/44 [==============================] - 6s 136ms/step - loss: 0.0308 - accuracy: 1.0000 - val_loss: 0.4960 - val_accuracy: 0.7500\n",
            "Epoch 8/10\n",
            "44/44 [==============================] - 6s 138ms/step - loss: 0.0164 - accuracy: 1.0000 - val_loss: 0.4945 - val_accuracy: 0.7700\n",
            "Epoch 9/10\n",
            "44/44 [==============================] - 6s 135ms/step - loss: 0.0103 - accuracy: 1.0000 - val_loss: 0.4983 - val_accuracy: 0.7750\n",
            "Epoch 10/10\n",
            "44/44 [==============================] - 6s 137ms/step - loss: 0.0071 - accuracy: 1.0000 - val_loss: 0.5014 - val_accuracy: 0.7800\n",
            "Model: \"model_1\"\n",
            "_________________________________________________________________\n",
            " Layer (type)                Output Shape              Param #   \n",
            "=================================================================\n",
            " input_2 (InputLayer)        [(None, 2299)]            0         \n",
            "                                                                 \n",
            " embedding_1 (Embedding)     (None, 2299, 50)          1862600   \n",
            "                                                                 \n",
            " conv1d_1 (Conv1D)           (None, 2297, 32)          4832      \n",
            "                                                                 \n",
            " global_max_pooling1d_1 (Glo  (None, 32)               0         \n",
            " balMaxPooling1D)                                                \n",
            "                                                                 \n",
            " dense_2 (Dense)             (None, 10)                330       \n",
            "                                                                 \n",
            " dense_3 (Dense)             (None, 1)                 11        \n",
            "                                                                 \n",
            "=================================================================\n",
            "Total params: 1,867,773\n",
            "Trainable params: 1,867,773\n",
            "Non-trainable params: 0\n",
            "_________________________________________________________________\n"
          ]
        }
      ]
    },
    {
      "cell_type": "code",
      "metadata": {
        "colab": {
          "base_uri": "https://localhost:8080/"
        },
        "id": "Ic_MyTxreawj",
        "outputId": "d957cd09-28f3-4bc2-f04a-ed41116bacb5"
      },
      "source": [
        "loss, accuracy = model.evaluate(data_train, y_train, verbose=False)\n",
        "\n",
        "print(\"Training Accuracy: {:.4f}\".format(accuracy))\n",
        "\n",
        "loss, accuracy = model.evaluate(data_val, y_Val, verbose=False)\n",
        "\n",
        "print(\"Validation Accuracy:  {:.4f}\".format(accuracy))\n"
      ],
      "execution_count": 47,
      "outputs": [
        {
          "output_type": "stream",
          "name": "stdout",
          "text": [
            "Training Accuracy: 1.0000\n",
            "Validation Accuracy:  0.7800\n"
          ]
        }
      ]
    },
    {
      "cell_type": "code",
      "metadata": {
        "colab": {
          "base_uri": "https://localhost:8080/",
          "height": 164
        },
        "id": "S96kE-F0edy3",
        "outputId": "ffe66217-ad8d-45ea-90f5-129c57b93ffa"
      },
      "source": [
        "# Plot loss per iteration  \n",
        "plt.subplot(211)\n",
        "plt.plot(Training.history['loss'], label='loss')\n",
        "plt.plot(Training.history['val_loss'], label='val_loss')\n",
        "\n",
        "plt.legend()"
      ],
      "execution_count": 48,
      "outputs": [
        {
          "output_type": "execute_result",
          "data": {
            "text/plain": [
              "<matplotlib.legend.Legend at 0x7f84154facd0>"
            ]
          },
          "metadata": {},
          "execution_count": 48
        },
        {
          "output_type": "display_data",
          "data": {
            "image/png": "[encoded data removed]",
            "text/plain": [
              "<Figure size 432x288 with 1 Axes>"
            ]
          },
          "metadata": {
            "needs_background": "light"
          }
        }
      ]
    },
    {
      "cell_type": "code",
      "metadata": {
        "colab": {
          "base_uri": "https://localhost:8080/",
          "height": 164
        },
        "id": "8J20jNTLefnn",
        "outputId": "642c1b0d-155e-4bb4-8a67-1ecb12e4552d"
      },
      "source": [
        "# Plot accuracy per iteration \n",
        "plt.subplot(212)\n",
        "plt.plot(Training.history['accuracy'], label='acc')\n",
        "plt.plot(Training.history['val_accuracy'], label='val_acc')\n",
        "\n",
        "plt.legend()"
      ],
      "execution_count": 49,
      "outputs": [
        {
          "output_type": "execute_result",
          "data": {
            "text/plain": [
              "<matplotlib.legend.Legend at 0x7f84154618d0>"
            ]
          },
          "metadata": {},
          "execution_count": 49
        },
        {
          "output_type": "display_data",
          "data": {
            "image/png": "[encoded data removed]",
            "text/plain": [
              "<Figure size 432x288 with 1 Axes>"
            ]
          },
          "metadata": {
            "needs_background": "light"
          }
        }
      ]
    },
    {
      "cell_type": "code",
      "metadata": {
        "id": "epeQWIHNgAbm",
        "colab": {
          "base_uri": "https://localhost:8080/"
        },
        "outputId": "bf2fdaf4-2e1f-4a5b-dc22-eb7b860c0b3d"
      },
      "source": [
        "loss, accuracy = model.evaluate(data_test, y_test, verbose=False)\n",
        "print(\"Testing  Accuracy:  {:.4f}\".format(accuracy))"
      ],
      "execution_count": 50,
      "outputs": [
        {
          "output_type": "stream",
          "name": "stdout",
          "text": [
            "Testing  Accuracy:  0.7925\n"
          ]
        }
      ]
    }
  ]
}